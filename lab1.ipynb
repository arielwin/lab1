{
 "cells": [
  {
   "cell_type": "code",
   "execution_count": 5,
   "metadata": {},
   "outputs": [],
   "source": [
    "import geopandas as gpd\n",
    "import pandas as pd\n",
    "import fiona"
   ]
  },
  {
   "cell_type": "code",
   "execution_count": 20,
   "metadata": {},
   "outputs": [
    {
     "name": "stdout",
     "output_type": "stream",
     "text": [
      "['soilmu_a_co001', 'soilmu_a_co618', 'soilmu_a_co641', 'soilmu_a_co642', 'soilmu_a_co643', 'soilmu_a_co644', 'soilmu_a_co645', 'soilmu_a_co651', 'soilmu_a_co653', 'wbdhu8_lab1', 'muaggatt_co001', 'muaggatt_co618', 'muaggatt_co641', 'muaggatt_co642', 'muaggatt_co643', 'muaggatt_co644', 'muaggatt_co645', 'muaggatt_co651', 'muaggatt_co653']\n"
     ]
    }
   ],
   "source": [
    "file = r'C:\\Users\\Ari\\Desktop\\Fall2020\\5092\\week1\\lab1.gpkg'\n",
    "# List all the available layers, prepare lists of polygons and tables\n",
    "layers = fiona.listlayers(r'C:\\Users\\Ari\\Desktop\\Fall2020\\5092\\week1\\lab1.gpkg')\n",
    "soils = [f for f in layers if f.startswith('soil')]\n",
    "tables = [f for f in layers if f.startswith('muag')]\n",
    "\n",
    "print(layers)"
   ]
  },
  {
   "cell_type": "code",
   "execution_count": 21,
   "metadata": {},
   "outputs": [
    {
     "name": "stdout",
     "output_type": "stream",
     "text": [
      "Done with soilmu_a_co001\n",
      "Done with soilmu_a_co618\n",
      "Done with soilmu_a_co641\n",
      "Done with soilmu_a_co642\n",
      "Done with soilmu_a_co643\n",
      "Done with soilmu_a_co644\n",
      "Done with soilmu_a_co645\n",
      "Done with soilmu_a_co651\n",
      "Done with soilmu_a_co653\n"
     ]
    }
   ],
   "source": [
    "joined_features = []\n",
    "for poly in soils:\n",
    "    for table in tables:\n",
    "        if poly[-5:] == table[-5:]: # Grab the layers that match\n",
    "            # Read each table and polygon\n",
    "            poly_fc = gpd.read_file(file, layer=poly)\n",
    "            table_fc = gpd.read_file(file, layer=table)\n",
    "            table_fc = table_fc.drop(columns='geometry')\n",
    "            # Join\n",
    "            joined = pd.merge(poly_fc, table_fc, left_on='MUSYM', right_on='musym')\n",
    "            \n",
    "            # Add new field\n",
    "            joined['mapunit'] = poly[-5:]\n",
    "            \n",
    "            # Append to the empyt list\n",
    "            joined_features.append(joined)\n",
    "            \n",
    "            print(f'Done with {poly}')"
   ]
  },
  {
   "cell_type": "code",
   "execution_count": 22,
   "metadata": {},
   "outputs": [],
   "source": [
    "merged = pd.concat(joined_features)"
   ]
  },
  {
   "cell_type": "code",
   "execution_count": 23,
   "metadata": {},
   "outputs": [
    {
     "data": {
      "text/html": [
       "<div>\n",
       "<style scoped>\n",
       "    .dataframe tbody tr th:only-of-type {\n",
       "        vertical-align: middle;\n",
       "    }\n",
       "\n",
       "    .dataframe tbody tr th {\n",
       "        vertical-align: top;\n",
       "    }\n",
       "\n",
       "    .dataframe thead th {\n",
       "        text-align: right;\n",
       "    }\n",
       "</style>\n",
       "<table border=\"1\" class=\"dataframe\">\n",
       "  <thead>\n",
       "    <tr style=\"text-align: right;\">\n",
       "      <th></th>\n",
       "      <th>SPATIALVER</th>\n",
       "      <th>MUSYM</th>\n",
       "      <th>MUKEY</th>\n",
       "      <th>Shape_Length</th>\n",
       "      <th>Shape_Area</th>\n",
       "      <th>geometry</th>\n",
       "      <th>musym</th>\n",
       "      <th>aws025wta</th>\n",
       "      <th>aws0150wta</th>\n",
       "      <th>drclassdcd</th>\n",
       "      <th>mapunit</th>\n",
       "    </tr>\n",
       "  </thead>\n",
       "  <tbody>\n",
       "    <tr>\n",
       "      <th>0</th>\n",
       "      <td>4.0</td>\n",
       "      <td>AaB</td>\n",
       "      <td>94035</td>\n",
       "      <td>0.010144</td>\n",
       "      <td>0.000004</td>\n",
       "      <td>MULTIPOLYGON (((-104.42220 39.93400, -104.4248...</td>\n",
       "      <td>AaB</td>\n",
       "      <td>4.15</td>\n",
       "      <td>25.4</td>\n",
       "      <td>Well drained</td>\n",
       "      <td>co001</td>\n",
       "    </tr>\n",
       "    <tr>\n",
       "      <th>1</th>\n",
       "      <td>4.0</td>\n",
       "      <td>AaB</td>\n",
       "      <td>94035</td>\n",
       "      <td>0.011057</td>\n",
       "      <td>0.000004</td>\n",
       "      <td>MULTIPOLYGON (((-104.27200 39.78590, -104.2749...</td>\n",
       "      <td>AaB</td>\n",
       "      <td>4.15</td>\n",
       "      <td>25.4</td>\n",
       "      <td>Well drained</td>\n",
       "      <td>co001</td>\n",
       "    </tr>\n",
       "    <tr>\n",
       "      <th>2</th>\n",
       "      <td>4.0</td>\n",
       "      <td>AaB</td>\n",
       "      <td>94035</td>\n",
       "      <td>0.010620</td>\n",
       "      <td>0.000005</td>\n",
       "      <td>MULTIPOLYGON (((-104.34210 39.89100, -104.3428...</td>\n",
       "      <td>AaB</td>\n",
       "      <td>4.15</td>\n",
       "      <td>25.4</td>\n",
       "      <td>Well drained</td>\n",
       "      <td>co001</td>\n",
       "    </tr>\n",
       "    <tr>\n",
       "      <th>3</th>\n",
       "      <td>4.0</td>\n",
       "      <td>AaB</td>\n",
       "      <td>94035</td>\n",
       "      <td>0.015856</td>\n",
       "      <td>0.000013</td>\n",
       "      <td>MULTIPOLYGON (((-104.28820 39.84590, -104.2850...</td>\n",
       "      <td>AaB</td>\n",
       "      <td>4.15</td>\n",
       "      <td>25.4</td>\n",
       "      <td>Well drained</td>\n",
       "      <td>co001</td>\n",
       "    </tr>\n",
       "    <tr>\n",
       "      <th>4</th>\n",
       "      <td>4.0</td>\n",
       "      <td>AaB</td>\n",
       "      <td>94035</td>\n",
       "      <td>0.025435</td>\n",
       "      <td>0.000025</td>\n",
       "      <td>MULTIPOLYGON (((-104.28650 39.83190, -104.2835...</td>\n",
       "      <td>AaB</td>\n",
       "      <td>4.15</td>\n",
       "      <td>25.4</td>\n",
       "      <td>Well drained</td>\n",
       "      <td>co001</td>\n",
       "    </tr>\n",
       "  </tbody>\n",
       "</table>\n",
       "</div>"
      ],
      "text/plain": [
       "   SPATIALVER MUSYM  MUKEY  Shape_Length  Shape_Area  \\\n",
       "0         4.0   AaB  94035      0.010144    0.000004   \n",
       "1         4.0   AaB  94035      0.011057    0.000004   \n",
       "2         4.0   AaB  94035      0.010620    0.000005   \n",
       "3         4.0   AaB  94035      0.015856    0.000013   \n",
       "4         4.0   AaB  94035      0.025435    0.000025   \n",
       "\n",
       "                                            geometry musym aws025wta  \\\n",
       "0  MULTIPOLYGON (((-104.42220 39.93400, -104.4248...   AaB      4.15   \n",
       "1  MULTIPOLYGON (((-104.27200 39.78590, -104.2749...   AaB      4.15   \n",
       "2  MULTIPOLYGON (((-104.34210 39.89100, -104.3428...   AaB      4.15   \n",
       "3  MULTIPOLYGON (((-104.28820 39.84590, -104.2850...   AaB      4.15   \n",
       "4  MULTIPOLYGON (((-104.28650 39.83190, -104.2835...   AaB      4.15   \n",
       "\n",
       "  aws0150wta    drclassdcd mapunit  \n",
       "0       25.4  Well drained   co001  \n",
       "1       25.4  Well drained   co001  \n",
       "2       25.4  Well drained   co001  \n",
       "3       25.4  Well drained   co001  \n",
       "4       25.4  Well drained   co001  "
      ]
     },
     "execution_count": 23,
     "metadata": {},
     "output_type": "execute_result"
    }
   ],
   "source": [
    "# Print header of new geodataframe\n",
    "merged.head()"
   ]
  },
  {
   "cell_type": "code",
   "execution_count": 24,
   "metadata": {},
   "outputs": [],
   "source": [
    "watershed = gpd.read_file(file, layer='wbdhu8_lab1')"
   ]
  },
  {
   "cell_type": "code",
   "execution_count": 25,
   "metadata": {},
   "outputs": [
    {
     "data": {
      "text/html": [
       "<div>\n",
       "<style scoped>\n",
       "    .dataframe tbody tr th:only-of-type {\n",
       "        vertical-align: middle;\n",
       "    }\n",
       "\n",
       "    .dataframe tbody tr th {\n",
       "        vertical-align: top;\n",
       "    }\n",
       "\n",
       "    .dataframe thead th {\n",
       "        text-align: right;\n",
       "    }\n",
       "</style>\n",
       "<table border=\"1\" class=\"dataframe\">\n",
       "  <thead>\n",
       "    <tr style=\"text-align: right;\">\n",
       "      <th></th>\n",
       "      <th>STATES</th>\n",
       "      <th>NAME</th>\n",
       "      <th>Shape_Length</th>\n",
       "      <th>Shape_Area</th>\n",
       "      <th>HUC8</th>\n",
       "      <th>geometry</th>\n",
       "    </tr>\n",
       "  </thead>\n",
       "  <tbody>\n",
       "    <tr>\n",
       "      <th>0</th>\n",
       "      <td>CO</td>\n",
       "      <td>St. Vrain</td>\n",
       "      <td>2.675418</td>\n",
       "      <td>0.268070</td>\n",
       "      <td>10190005</td>\n",
       "      <td>MULTIPOLYGON (((-105.52543 40.29793, -105.5234...</td>\n",
       "    </tr>\n",
       "    <tr>\n",
       "      <th>1</th>\n",
       "      <td>CO</td>\n",
       "      <td>Big Thompson</td>\n",
       "      <td>2.734573</td>\n",
       "      <td>0.228711</td>\n",
       "      <td>10190006</td>\n",
       "      <td>MULTIPOLYGON (((-105.31793 40.62803, -105.3147...</td>\n",
       "    </tr>\n",
       "  </tbody>\n",
       "</table>\n",
       "</div>"
      ],
      "text/plain": [
       "  STATES          NAME  Shape_Length  Shape_Area      HUC8  \\\n",
       "0     CO     St. Vrain      2.675418    0.268070  10190005   \n",
       "1     CO  Big Thompson      2.734573    0.228711  10190006   \n",
       "\n",
       "                                            geometry  \n",
       "0  MULTIPOLYGON (((-105.52543 40.29793, -105.5234...  \n",
       "1  MULTIPOLYGON (((-105.31793 40.62803, -105.3147...  "
      ]
     },
     "execution_count": 25,
     "metadata": {},
     "output_type": "execute_result"
    }
   ],
   "source": [
    "watershed"
   ]
  },
  {
   "cell_type": "code",
   "execution_count": 26,
   "metadata": {},
   "outputs": [],
   "source": [
    "# Intesect\n",
    "intersected = gpd.overlay(merged, watershed, how='intersection')"
   ]
  },
  {
   "cell_type": "code",
   "execution_count": 27,
   "metadata": {},
   "outputs": [],
   "source": [
    "# Grouped by HUC8\n",
    "summarized = intersected.groupby(by='NAME').count()"
   ]
  },
  {
   "cell_type": "code",
   "execution_count": 28,
   "metadata": {},
   "outputs": [
    {
     "name": "stdout",
     "output_type": "stream",
     "text": [
      "1979 features classes in watershed Big Thompson\n",
      "2073 features classes in watershed St. Vrain\n"
     ]
    }
   ],
   "source": [
    "for idx, row in summarized.iterrows():\n",
    "    fc_count = row['SPATIALVER']\n",
    "    print(f'{fc_count} features classes in watershed {idx}')"
   ]
  },
  {
   "cell_type": "code",
   "execution_count": null,
   "metadata": {},
   "outputs": [],
   "source": []
  }
 ],
 "metadata": {
  "kernelspec": {
   "display_name": "Python 3",
   "language": "python",
   "name": "python3"
  },
  "language_info": {
   "codemirror_mode": {
    "name": "ipython",
    "version": 3
   },
   "file_extension": ".py",
   "mimetype": "text/x-python",
   "name": "python",
   "nbconvert_exporter": "python",
   "pygments_lexer": "ipython3",
   "version": "3.8.5"
  }
 },
 "nbformat": 4,
 "nbformat_minor": 4
}
